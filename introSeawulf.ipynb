{
 "cells": [
  {
   "cell_type": "markdown",
   "id": "e90b4775",
   "metadata": {},
   "source": [
    "OKK time to put a user manual for seawulf together. It definitely won't be an entirely conclusive manual but I want to include enough information that anyone who wants to could use this and be able to run a job on seawulf.\n",
    "\n",
    "creating seawulf account\n",
    "logging in to seawulf\n",
    "loading files into seawulf\n",
    "seeing your directory\n",
    "moving around between directories\n",
    "opening a file\n",
    "editing a file\n",
    "saving edits\n",
    "leaving a file\n",
    "running a job\n",
    "seeing your job in the queue\n",
    "seeing all your jobs\n",
    "getting help in seawulf\n",
    "\n",
    "WAIT SOMETHING I THOUGHT OF THAT PROBS SHOULD BE HERE IS SCRIPT FILES IDK WHERE THO"
   ]
  },
  {
   "cell_type": "markdown",
   "id": "f27cfd71",
   "metadata": {},
   "source": [
    "organizing that list into sections\n",
    "\n",
    "accessing seawulf\n",
    "putting and finding files in seawulf\n",
    "opening, editing, and exiting files from seawulf\n",
    "running and viewing a job in seawulf\n",
    "getting help in seawulf"
   ]
  },
  {
   "cell_type": "markdown",
   "id": "35bd5e4c",
   "metadata": {},
   "source": [
    "# Accessing Seawulf\n",
    "___\n",
    "### Creating an Account\n",
    "Idk how \n",
    "\n",
    "### Logging in\n",
    "To login to seawulf you type in your terminal\n",
    ">**ssh -X netID@login.seawulf.stonybrook.edu**\n",
    "\n",
    "You will be prompted to enter your password, note that while typing your password no text will show up, just type then hit enter. You will have to use duo login and then you're in!\n",
    "___"
   ]
  },
  {
   "cell_type": "markdown",
   "id": "c79142fe",
   "metadata": {},
   "source": [
    "# Creating and viewing files in Seawulf\n",
    "___\n",
    "### Transfering files to Seawulf\n",
    "In order to use QuEP you'll need all of the files in seawulf. First you should be logged in to the sftp seawulf. This is specifically for moving files securely. To do this you start not logged in to regular seawulf. So, from your normal computer, log in using the normal login procedure but instead of 'ssh -X' use 'sftp'. To move everything all together you use \n",
    ">**put -R C:\\Users\\cpUsrName\\Folder\\pathName**\n",
    "\n",
    "In order to move just one file use \n",
    ">**put C:\\User\\cpUsrName\\file\\pathName**\n",
    "\n",
    "### Seeing your files\n",
    "To view what you have access to in your seawulf you can use the command 'ls' this will show you all of your files. To change your directory (go into a folder you have or exit a folder) you use the command 'cd'. To go into a specifcic folder you would type \n",
    ">**cd urFolderName**. \n",
    "\n",
    "To leave all the folders you're in and go to your home base, so to speak, you just enter \n",
    ">**cd**\n",
    "\n",
    "### Creating/deleting files\n",
    "There are a few ways to create a file. One way is to create it on your own computer in vs code, then transfer it to seawulf. Another way is to use emacs (see 'Opening a file' below). To do this you type \n",
    ">**emacs urFileName.typ** \n",
    "\n",
    "and you will be taken into your new file. To edit this see the accessing files section below. \n",
    "___"
   ]
  },
  {
   "cell_type": "markdown",
   "id": "028f7f6c",
   "metadata": {},
   "source": [
    "# Accessing files\n",
    "***\n",
    "### *Opening a file*\n",
    "To open a file you have to first make sure you're in the directory that the file is in. Once you've done this you can type *emacs urFileName.typ* and you will be taken into the file.\n",
    ">**Commands:**<br>\n",
    "emacs urFileName.typ\n",
    "### *Editing a file*\n",
    "When in a file in the terminal you won't be able to scroll and need to use the arrow keys to navigate around. You can edit this file like any other file but must make sure to save before you exit.\n",
    "### *Saving edits and exiting*\n",
    "To save a file you press *crtl+s*. To exit a file you type *crtl+x+c*.\n",
    ">**Commands:**<br>\n",
    "ctrl+s<br>\n",
    "ctrl+x+c\n",
    "___"
   ]
  },
  {
   "cell_type": "markdown",
   "id": "e6ab855a",
   "metadata": {},
   "source": [
    "# Jobs\n",
    "___\n",
    "### *how to run a job*\n",
    "To run a job you first have to run the command **module load slurm** then run **sbatch urScriptFile.scr**. this will output the job number so that you can check in on your job later. \n",
    "### *using squeue*\n",
    "Anything you want to find out about the queue or location of your job you will need some variation of the command 'squeue'. To use this you also need to load slurm. Just typing **squeue** will show you a list of all submitted jobs to the cluster. These aren't necessarily in order of priority (FIND OUT WHAT ORDER THEY ARE IN?????????). To see all squeue options type **squeue help** and all options will be shown. The most useful one (at least for me) has been **squeue -u netID**. This will show you a list of all the jobs you have submitted, their job number, partition, and time. \n",
    "___"
   ]
  },
  {
   "cell_type": "markdown",
   "id": "7f46324f",
   "metadata": {},
   "source": [
    "| Header 1 | Header 2 |\n",
    "|----------|----------|\n",
    "| Cell 1   | Cell 2   |\n",
    "| Cell 3   | Cell 4   |\n",
    "\n",
    "\n",
    ">block quote block quote block quoate"
   ]
  },
  {
   "cell_type": "markdown",
   "id": "61234fa2",
   "metadata": {},
   "source": [
    "## Script files\n",
    "Idk fs but I think should include how to make one (easy way) and what the nodes and stuff mean"
   ]
  },
  {
   "cell_type": "markdown",
   "id": "e6e523e9",
   "metadata": {},
   "source": [
    "## To do\n",
    "- make decision on the bold vs italics and block vs just block format\n",
    "    - ask soph or mom?\n",
    "- Get script file stuff done\n",
    "- Also the creating a seawulf account stuff"
   ]
  },
  {
   "cell_type": "code",
   "execution_count": null,
   "id": "fa4e082d",
   "metadata": {},
   "outputs": [],
   "source": []
  }
 ],
 "metadata": {
  "kernelspec": {
   "display_name": "Python 3 (ipykernel)",
   "language": "python",
   "name": "python3"
  },
  "language_info": {
   "codemirror_mode": {
    "name": "ipython",
    "version": 3
   },
   "file_extension": ".py",
   "mimetype": "text/x-python",
   "name": "python",
   "nbconvert_exporter": "python",
   "pygments_lexer": "ipython3",
   "version": "3.9.13"
  }
 },
 "nbformat": 4,
 "nbformat_minor": 5
}
